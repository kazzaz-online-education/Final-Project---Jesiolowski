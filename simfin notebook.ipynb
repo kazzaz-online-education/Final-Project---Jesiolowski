{
 "cells": [
  {
   "cell_type": "code",
   "execution_count": 81,
   "metadata": {},
   "outputs": [],
   "source": [
    "import sqlite3\n",
    "import pandas as pd\n",
    "\n",
    "csvfile = \"resources/phase3/simfin/income.csv\"\n",
    "\n",
    "df = pd.read_csv(csvfile, sep=';')\n",
    "df.columns = df.columns.str.replace(' ', '')\n",
    "\n",
    "import os\n",
    "os.chdir('/home/ec2-user/SageMaker/')\n",
    "\n",
    "db_file = \"simfim.sqlite\"\n",
    "conn = sqlite3.connect(db_file)\n",
    "table_name = \"tblSimFin\" \n",
    "\n",
    "df.to_sql(table_name, conn, if_exists='replace', index=False)"
   ]
  },
  {
   "cell_type": "markdown",
   "metadata": {},
   "source": [
    "# How many records are in the SimFin table?"
   ]
  },
  {
   "cell_type": "code",
   "execution_count": 82,
   "metadata": {},
   "outputs": [
    {
     "name": "stdout",
     "output_type": "stream",
     "text": [
      "   count(*)\n",
      "0     45312\n"
     ]
    }
   ],
   "source": [
    "querySimFinCount = \"\"\"\n",
    "select count(*) from tblSimFin\n",
    "\"\"\"\n",
    "\n",
    "dfSimFinCount = pd.read_sql_query(querySimFinCount, conn)\n",
    "\n",
    "print(dfSimFinCount)"
   ]
  },
  {
   "cell_type": "code",
   "execution_count": 83,
   "metadata": {},
   "outputs": [
    {
     "name": "stdout",
     "output_type": "stream",
     "text": [
      "45312\n"
     ]
    }
   ],
   "source": [
    "index = df.index\n",
    "number_of_rows = len(index)\n",
    "print(number_of_rows)"
   ]
  },
  {
   "cell_type": "code",
   "execution_count": 90,
   "metadata": {},
   "outputs": [
    {
     "data": {
      "text/html": [
       "<div>\n",
       "<style scoped>\n",
       "    .dataframe tbody tr th:only-of-type {\n",
       "        vertical-align: middle;\n",
       "    }\n",
       "\n",
       "    .dataframe tbody tr th {\n",
       "        vertical-align: top;\n",
       "    }\n",
       "\n",
       "    .dataframe thead th {\n",
       "        text-align: right;\n",
       "    }\n",
       "</style>\n",
       "<table border=\"1\" class=\"dataframe\">\n",
       "  <thead>\n",
       "    <tr style=\"text-align: right;\">\n",
       "      <th></th>\n",
       "      <th>Ticker</th>\n",
       "      <th>SimFinId</th>\n",
       "      <th>Currency</th>\n",
       "      <th>FiscalYear</th>\n",
       "      <th>FiscalPeriod</th>\n",
       "      <th>ReportDate</th>\n",
       "      <th>PublishDate</th>\n",
       "      <th>Shares(Basic)</th>\n",
       "      <th>Shares(Diluted)</th>\n",
       "      <th>Revenue</th>\n",
       "      <th>...</th>\n",
       "      <th>Non-OperatingIncome(Loss)</th>\n",
       "      <th>InterestExpense,Net</th>\n",
       "      <th>PretaxIncome(Loss),Adj.</th>\n",
       "      <th>AbnormalGains(Losses)</th>\n",
       "      <th>PretaxIncome(Loss)</th>\n",
       "      <th>IncomeTax(Expense)Benefit,Net</th>\n",
       "      <th>Income(Loss)fromContinuingOperations</th>\n",
       "      <th>NetExtraordinaryGains(Losses)</th>\n",
       "      <th>NetIncome</th>\n",
       "      <th>NetIncome(Common)</th>\n",
       "    </tr>\n",
       "  </thead>\n",
       "  <tbody>\n",
       "    <tr>\n",
       "      <th>0</th>\n",
       "      <td>A</td>\n",
       "      <td>45846</td>\n",
       "      <td>USD</td>\n",
       "      <td>2011</td>\n",
       "      <td>Q2</td>\n",
       "      <td>2011-04-30</td>\n",
       "      <td>2011-06-07</td>\n",
       "      <td>346250000.0</td>\n",
       "      <td>354500000.0</td>\n",
       "      <td>6.156000e+09</td>\n",
       "      <td>...</td>\n",
       "      <td>1000000.0</td>\n",
       "      <td>-73000000.0</td>\n",
       "      <td>796000000</td>\n",
       "      <td>NaN</td>\n",
       "      <td>928000000</td>\n",
       "      <td>-38000000.0</td>\n",
       "      <td>890000000</td>\n",
       "      <td>NaN</td>\n",
       "      <td>890000000</td>\n",
       "      <td>890000000</td>\n",
       "    </tr>\n",
       "    <tr>\n",
       "      <th>1</th>\n",
       "      <td>A</td>\n",
       "      <td>45846</td>\n",
       "      <td>USD</td>\n",
       "      <td>2011</td>\n",
       "      <td>Q3</td>\n",
       "      <td>2011-07-31</td>\n",
       "      <td>2011-09-07</td>\n",
       "      <td>346500000.0</td>\n",
       "      <td>355750000.0</td>\n",
       "      <td>6.463000e+09</td>\n",
       "      <td>...</td>\n",
       "      <td>16000000.0</td>\n",
       "      <td>-69000000.0</td>\n",
       "      <td>977000000</td>\n",
       "      <td>NaN</td>\n",
       "      <td>982000000</td>\n",
       "      <td>33000000.0</td>\n",
       "      <td>1015000000</td>\n",
       "      <td>NaN</td>\n",
       "      <td>1015000000</td>\n",
       "      <td>1015000000</td>\n",
       "    </tr>\n",
       "    <tr>\n",
       "      <th>2</th>\n",
       "      <td>A</td>\n",
       "      <td>45846</td>\n",
       "      <td>USD</td>\n",
       "      <td>2011</td>\n",
       "      <td>Q4</td>\n",
       "      <td>2011-10-31</td>\n",
       "      <td>2011-12-16</td>\n",
       "      <td>347000000.0</td>\n",
       "      <td>355000000.0</td>\n",
       "      <td>6.615000e+09</td>\n",
       "      <td>...</td>\n",
       "      <td>-39000000.0</td>\n",
       "      <td>-72000000.0</td>\n",
       "      <td>1032000000</td>\n",
       "      <td>NaN</td>\n",
       "      <td>1032000000</td>\n",
       "      <td>-20000000.0</td>\n",
       "      <td>1012000000</td>\n",
       "      <td>NaN</td>\n",
       "      <td>1012000000</td>\n",
       "      <td>1012000000</td>\n",
       "    </tr>\n",
       "    <tr>\n",
       "      <th>3</th>\n",
       "      <td>A</td>\n",
       "      <td>45846</td>\n",
       "      <td>USD</td>\n",
       "      <td>2012</td>\n",
       "      <td>Q1</td>\n",
       "      <td>2012-01-31</td>\n",
       "      <td>2012-03-05</td>\n",
       "      <td>347250000.0</td>\n",
       "      <td>354250000.0</td>\n",
       "      <td>6.731000e+09</td>\n",
       "      <td>...</td>\n",
       "      <td>-41000000.0</td>\n",
       "      <td>-76000000.0</td>\n",
       "      <td>1090000000</td>\n",
       "      <td>NaN</td>\n",
       "      <td>1090000000</td>\n",
       "      <td>-41000000.0</td>\n",
       "      <td>1049000000</td>\n",
       "      <td>NaN</td>\n",
       "      <td>1049000000</td>\n",
       "      <td>1049000000</td>\n",
       "    </tr>\n",
       "    <tr>\n",
       "      <th>4</th>\n",
       "      <td>A</td>\n",
       "      <td>45846</td>\n",
       "      <td>USD</td>\n",
       "      <td>2012</td>\n",
       "      <td>Q2</td>\n",
       "      <td>2012-04-30</td>\n",
       "      <td>2012-06-04</td>\n",
       "      <td>347500000.0</td>\n",
       "      <td>354000000.0</td>\n",
       "      <td>6.787000e+09</td>\n",
       "      <td>...</td>\n",
       "      <td>-42000000.0</td>\n",
       "      <td>-82000000.0</td>\n",
       "      <td>1123000000</td>\n",
       "      <td>NaN</td>\n",
       "      <td>1123000000</td>\n",
       "      <td>-19000000.0</td>\n",
       "      <td>1104000000</td>\n",
       "      <td>NaN</td>\n",
       "      <td>1104000000</td>\n",
       "      <td>1104000000</td>\n",
       "    </tr>\n",
       "  </tbody>\n",
       "</table>\n",
       "<p>5 rows × 27 columns</p>\n",
       "</div>"
      ],
      "text/plain": [
       "  Ticker  SimFinId Currency  FiscalYear FiscalPeriod  ReportDate PublishDate  \\\n",
       "0      A     45846      USD        2011           Q2  2011-04-30  2011-06-07   \n",
       "1      A     45846      USD        2011           Q3  2011-07-31  2011-09-07   \n",
       "2      A     45846      USD        2011           Q4  2011-10-31  2011-12-16   \n",
       "3      A     45846      USD        2012           Q1  2012-01-31  2012-03-05   \n",
       "4      A     45846      USD        2012           Q2  2012-04-30  2012-06-04   \n",
       "\n",
       "   Shares(Basic)  Shares(Diluted)       Revenue  ...  \\\n",
       "0    346250000.0      354500000.0  6.156000e+09  ...   \n",
       "1    346500000.0      355750000.0  6.463000e+09  ...   \n",
       "2    347000000.0      355000000.0  6.615000e+09  ...   \n",
       "3    347250000.0      354250000.0  6.731000e+09  ...   \n",
       "4    347500000.0      354000000.0  6.787000e+09  ...   \n",
       "\n",
       "   Non-OperatingIncome(Loss)  InterestExpense,Net  PretaxIncome(Loss),Adj.  \\\n",
       "0                  1000000.0          -73000000.0                796000000   \n",
       "1                 16000000.0          -69000000.0                977000000   \n",
       "2                -39000000.0          -72000000.0               1032000000   \n",
       "3                -41000000.0          -76000000.0               1090000000   \n",
       "4                -42000000.0          -82000000.0               1123000000   \n",
       "\n",
       "   AbnormalGains(Losses)  PretaxIncome(Loss)  IncomeTax(Expense)Benefit,Net  \\\n",
       "0                    NaN           928000000                    -38000000.0   \n",
       "1                    NaN           982000000                     33000000.0   \n",
       "2                    NaN          1032000000                    -20000000.0   \n",
       "3                    NaN          1090000000                    -41000000.0   \n",
       "4                    NaN          1123000000                    -19000000.0   \n",
       "\n",
       "   Income(Loss)fromContinuingOperations  NetExtraordinaryGains(Losses)  \\\n",
       "0                             890000000                            NaN   \n",
       "1                            1015000000                            NaN   \n",
       "2                            1012000000                            NaN   \n",
       "3                            1049000000                            NaN   \n",
       "4                            1104000000                            NaN   \n",
       "\n",
       "    NetIncome  NetIncome(Common)  \n",
       "0   890000000          890000000  \n",
       "1  1015000000         1015000000  \n",
       "2  1012000000         1012000000  \n",
       "3  1049000000         1049000000  \n",
       "4  1104000000         1104000000  \n",
       "\n",
       "[5 rows x 27 columns]"
      ]
     },
     "execution_count": 90,
     "metadata": {},
     "output_type": "execute_result"
    }
   ],
   "source": [
    "queryData = \"\"\"\n",
    "select * from tblSimFin\n",
    "\"\"\"\n",
    "\n",
    "dftblSimFin = pd.read_sql_query(queryData, conn)\n",
    "dftblSimFin.head()"
   ]
  },
  {
   "cell_type": "markdown",
   "metadata": {},
   "source": [
    "# How many unique report dates are in the SimFin dataset?"
   ]
  },
  {
   "cell_type": "code",
   "execution_count": 91,
   "metadata": {},
   "outputs": [
    {
     "name": "stdout",
     "output_type": "stream",
     "text": [
      "   count(distinct ticker)\n",
      "0                    1858\n"
     ]
    }
   ],
   "source": [
    "querySimFinCountTickers = \"\"\"\n",
    "select count(distinct ticker) from tblSimFin\n",
    "\"\"\"\n",
    "\n",
    "dfSimFinCountTickers = pd.read_sql_query(querySimFinCountTickers, conn)\n",
    "\n",
    "print(dfSimFinCountTickers)"
   ]
  },
  {
   "cell_type": "code",
   "execution_count": 92,
   "metadata": {},
   "outputs": [
    {
     "data": {
      "text/plain": [
       "1858"
      ]
     },
     "execution_count": 92,
     "metadata": {},
     "output_type": "execute_result"
    }
   ],
   "source": [
    "df['Ticker'].nunique()"
   ]
  },
  {
   "cell_type": "markdown",
   "metadata": {},
   "source": [
    "# How many times has the net income reported exceeded $1,000,000,000?"
   ]
  },
  {
   "cell_type": "code",
   "execution_count": 96,
   "metadata": {},
   "outputs": [
    {
     "name": "stdout",
     "output_type": "stream",
     "text": [
      "Net Income over a billion: \n",
      "\n",
      "      ReportDate  high_net_income\n",
      "0    2009-07-31      18285750000\n",
      "1    2009-09-30       2683503000\n",
      "2    2009-10-31      17908456000\n",
      "3    2009-12-31       4979693000\n",
      "4    2010-01-31      19416587000\n",
      "5    2010-02-28      12409516000\n",
      "6    2010-03-31     282188844000\n",
      "7    2010-04-30      51752782000\n",
      "8    2010-05-31      17676183000\n",
      "9    2010-06-30     362065178112\n",
      "10   2010-07-31      55139777000\n",
      "11   2010-08-31      22776768000\n",
      "12   2010-09-30     399059415112\n",
      "13   2010-10-31      56532607000\n",
      "14   2010-11-30      24366678000\n",
      "15   2010-12-31     411086249000\n",
      "16   2011-01-31      60347024000\n",
      "17   2011-02-28      27047842000\n",
      "18   2011-03-31     478846427052\n",
      "19   2011-04-30      65286107000\n",
      "20   2011-05-31      33529177000\n",
      "21   2011-06-30     543222726804\n",
      "22   2011-07-31      66367326000\n",
      "23   2011-08-31      37059303000\n",
      "24   2011-09-30     563747825831\n",
      "25   2011-10-31      64173654473\n",
      "26   2011-11-30      39667360000\n",
      "27   2011-12-31     568379968196\n",
      "28   2012-01-31      62443327061\n",
      "29   2012-02-29      39832394021\n",
      "..          ...              ...\n",
      "85   2016-10-31      82746091101\n",
      "86   2016-11-30      57564682784\n",
      "87   2016-12-31     631244428554\n",
      "88   2017-01-31      81112586544\n",
      "89   2017-02-28      59958545640\n",
      "90   2017-03-31     661090062078\n",
      "91   2017-04-30      79746651002\n",
      "92   2017-05-31      64436613892\n",
      "93   2017-06-30     677239294092\n",
      "94   2017-07-31      76210066483\n",
      "95   2017-08-31      68525553021\n",
      "96   2017-09-30     688794843723\n",
      "97   2017-10-31      78914532849\n",
      "98   2017-11-30      73185647338\n",
      "99   2017-12-31     780355988692\n",
      "100  2018-01-31      52896588536\n",
      "101  2018-02-28      75108151049\n",
      "102  2018-03-31     805360315545\n",
      "103  2018-04-30      59018789978\n",
      "104  2018-05-31      77458513124\n",
      "105  2018-06-30     848178564562\n",
      "106  2018-07-31      60638814922\n",
      "107  2018-08-31      83363232977\n",
      "108  2018-09-30     881599322850\n",
      "109  2018-10-31      60699335311\n",
      "110  2018-11-30      84937858783\n",
      "111  2018-12-31     807094561052\n",
      "112  2019-01-31      89034585936\n",
      "113  2019-02-28      90104511072\n",
      "114  2019-03-31     798282393521\n",
      "\n",
      "[115 rows x 2 columns]\n"
     ]
    }
   ],
   "source": [
    "queryNIOverBillion = \"\"\"\n",
    "select ReportDate, sum([NetIncome]) as high_net_income from tblSimFin\n",
    "group by ReportDate\n",
    "having sum([NetIncome]) >= 1000000000\n",
    "order by ReportDate\n",
    "\"\"\"\n",
    "\n",
    "resultNIOverBillionSQL = pd.read_sql_query(queryNIOverBillion, conn)\n",
    "print(\"Net Income over a billion: \\n\\n %s\" % resultNIOverBillionSQL)"
   ]
  },
  {
   "cell_type": "markdown",
   "metadata": {},
   "source": [
    "# How many basic shares were distributed in 2015 to now?"
   ]
  },
  {
   "cell_type": "code",
   "execution_count": 108,
   "metadata": {},
   "outputs": [
    {
     "name": "stdout",
     "output_type": "stream",
     "text": [
      "Basic Shares distributed from 2015 to now: \n",
      "\n",
      "    FiscalYear  Shares(Basic)\n",
      "0        2015    927000000.0\n",
      "1        2016    880000000.0\n",
      "2        2017    839000000.0\n",
      "3        2018    817750000.0\n",
      "4        2019     32411000.0\n"
     ]
    }
   ],
   "source": [
    "queryNumberShares = \"\"\"\n",
    "select FiscalYear, ([Shares(Basic)]) from tblSimFin\n",
    "where FiscalYear >= 2015\n",
    "group by FiscalYear\n",
    "order by FiscalYear\n",
    "\"\"\"\n",
    "\n",
    "resultNumberSharesSQL = pd.read_sql_query(queryNumberShares, conn)\n",
    "print(\"Basic Shares distributed from 2015 to now: \\n\\n %s\" % resultNumberSharesSQL)"
   ]
  },
  {
   "cell_type": "markdown",
   "metadata": {},
   "source": [
    "# In which year was the highest amount of Revenue reported?"
   ]
  },
  {
   "cell_type": "code",
   "execution_count": 134,
   "metadata": {},
   "outputs": [
    {
     "name": "stdout",
     "output_type": "stream",
     "text": [
      "The highest amount of revnue was reported in: \n",
      "\n",
      "    FiscalYear  total_revenue\n",
      "0        2018   4.943814e+13\n"
     ]
    }
   ],
   "source": [
    "queryHighestRev = \"\"\"\n",
    "select FiscalYear, sum(Revenue) as total_revenue from tblSimFin\n",
    "group by FiscalYear\n",
    "order by total_revenue desc\n",
    "limit 1\n",
    "\"\"\"\n",
    "\n",
    "resultHighestRevSQL = pd.read_sql_query(queryHighestRev, conn)\n",
    "print(\"The highest amount of revnue was reported in: \\n\\n %s\" % resultHighestRevSQL)"
   ]
  },
  {
   "cell_type": "markdown",
   "metadata": {},
   "source": [
    "# What has been the average pretax income loss reported in the past 10 years (2010-2019)?"
   ]
  },
  {
   "cell_type": "code",
   "execution_count": 136,
   "metadata": {},
   "outputs": [
    {
     "name": "stdout",
     "output_type": "stream",
     "text": [
      "The average pretax income loss reported in the past 10 years is: \n",
      "\n",
      "            avg(\n",
      "0  8.057886e+08\n"
     ]
    }
   ],
   "source": [
    "queryAveragePIL = \"\"\"\n",
    "select avg([PretaxIncome(Loss)]) from tblSimFin\n",
    "where FiscalYear >=2010 and FiscalYear <=2019\n",
    "\"\"\"\n",
    "\n",
    "resultAveragePILSQL = pd.read_sql_query(queryAveragePIL, conn)\n",
    "print(\"The average pretax income loss reported in the past 10 years is: \\n\\n %s\" % resultAveragePILSQL)"
   ]
  },
  {
   "cell_type": "markdown",
   "metadata": {},
   "source": [
    "# What is the difference between the net income reported in 2010 to net income in 2019?"
   ]
  },
  {
   "cell_type": "code",
   "execution_count": 157,
   "metadata": {},
   "outputs": [
    {
     "name": "stdout",
     "output_type": "stream",
     "text": [
      "The difference in net income can be found by subtracting 2010's balance from 2019: \n",
      "\n",
      "     FiscalYear  total_net_income\n",
      "0         2019     1200248226769\n",
      "1         2018     3879660509317\n",
      "2         2017     3366376758387\n",
      "3         2016     2784218628694\n",
      "4         2015     2848235027950\n",
      "5         2014     3122608827826\n",
      "6         2013     2817453976943\n",
      "7         2012     2711611267570\n",
      "8         2011     2501928480870\n",
      "9         2010     1595242848224\n",
      "10        2009       61994712000\n",
      "11        2008          45628000\n"
     ]
    }
   ],
   "source": [
    "queryDiffNI = \"\"\"\n",
    "select FiscalYear, sum(NetIncome) as total_net_income from tblSimFin\n",
    "group by FiscalYear\n",
    "order by FiscalYear desc\n",
    "\"\"\"\n",
    "\n",
    "resultDiffNISQL = pd.read_sql_query(queryDiffNI, conn)\n",
    "print(\"The difference in net income can be found by subtracting 2010's balance from 2019: \\n\\n %s\" % resultDiffNISQL)"
   ]
  },
  {
   "cell_type": "markdown",
   "metadata": {},
   "source": [
    "# In 2019, which date was the least amount of revenue reported?"
   ]
  },
  {
   "cell_type": "code",
   "execution_count": 160,
   "metadata": {},
   "outputs": [
    {
     "name": "stdout",
     "output_type": "stream",
     "text": [
      "The least amount of revenue in 2019 was reported on: \n",
      "\n",
      "    ReportDate  min(Revenue)\n",
      "0  2019-03-31           0.0\n"
     ]
    }
   ],
   "source": [
    "queryLeast = \"\"\"\n",
    "select ReportDate, min(Revenue) from tblSimFin\n",
    "where FiscalYear = 2019\n",
    "\"\"\"\n",
    "\n",
    "resultLeastSQL = pd.read_sql_query(queryLeast, conn)\n",
    "print(\"The least amount of revenue in 2019 was reported on: \\n\\n %s\" % resultLeastSQL)"
   ]
  },
  {
   "cell_type": "markdown",
   "metadata": {},
   "source": [
    "# Which unique ticker number reports the most revenue in 2017?"
   ]
  },
  {
   "cell_type": "code",
   "execution_count": 163,
   "metadata": {},
   "outputs": [
    {
     "name": "stdout",
     "output_type": "stream",
     "text": [
      "The ticker number reporting the most revenue in 2017 is: \n",
      "\n",
      "   Ticker  FiscalYear  max(Revenue)\n",
      "0    WMT        2017  5.003430e+11\n"
     ]
    }
   ],
   "source": [
    "queryTN = \"\"\"\n",
    "select Ticker, FiscalYear, max(Revenue) from tblSimFin\n",
    "where FiscalYear = 2017\n",
    "\"\"\"\n",
    "\n",
    "resultTNSQL = pd.read_sql_query(queryTN, conn)\n",
    "print(\"The ticker number reporting the most revenue in 2017 is: \\n\\n %s\" % resultTNSQL)"
   ]
  }
 ],
 "metadata": {
  "kernelspec": {
   "display_name": "conda_python3",
   "language": "python",
   "name": "conda_python3"
  },
  "language_info": {
   "codemirror_mode": {
    "name": "ipython",
    "version": 3
   },
   "file_extension": ".py",
   "mimetype": "text/x-python",
   "name": "python",
   "nbconvert_exporter": "python",
   "pygments_lexer": "ipython3",
   "version": "3.6.5"
  }
 },
 "nbformat": 4,
 "nbformat_minor": 4
}
