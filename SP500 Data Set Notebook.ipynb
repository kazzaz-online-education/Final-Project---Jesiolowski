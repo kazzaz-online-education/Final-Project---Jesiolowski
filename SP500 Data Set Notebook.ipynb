{
 "cells": [
  {
   "cell_type": "markdown",
   "metadata": {},
   "source": [
    "# SP500 Dataset"
   ]
  },
  {
   "cell_type": "code",
   "execution_count": 6,
   "metadata": {},
   "outputs": [
    {
     "data": {
      "text/plain": [
       "'/home/ec2-user/SageMaker'"
      ]
     },
     "execution_count": 6,
     "metadata": {},
     "output_type": "execute_result"
    }
   ],
   "source": [
    "import sqlite3\n",
    "import pandas as pd\n",
    "import numpy as np\n",
    "\n",
    "import os\n",
    "os.chdir('/home/ec2-user/SageMaker/')\n",
    "os.getcwd()"
   ]
  },
  {
   "cell_type": "code",
   "execution_count": 7,
   "metadata": {},
   "outputs": [],
   "source": [
    "dbSP500 = sqlite3.connect('resources/phase3/sp500/sp500.sqlite')"
   ]
  },
  {
   "cell_type": "markdown",
   "metadata": {},
   "source": [
    "# How large is this dataset?"
   ]
  },
  {
   "cell_type": "code",
   "execution_count": 10,
   "metadata": {},
   "outputs": [
    {
     "name": "stdout",
     "output_type": "stream",
     "text": [
      "    name\n",
      "0  sp500\n"
     ]
    }
   ],
   "source": [
    "queryTables = \"\"\"\n",
    "select name from sqlite_master where type = 'table'\n",
    "\"\"\"\n",
    "\n",
    "dfTables = pd.read_sql_query(queryTables, dbSP500)\n",
    "print(dfTables)\n",
    "\n"
   ]
  },
  {
   "cell_type": "code",
   "execution_count": 7,
   "metadata": {},
   "outputs": [
    {
     "name": "stdout",
     "output_type": "stream",
     "text": [
      "   count(*)\n",
      "0     17378\n"
     ]
    }
   ],
   "source": [
    "queryRows = \"\"\"\n",
    "select count(*) from sp500\n",
    "\"\"\"\n",
    "\n",
    "dfRows = pd.read_sql_query(queryRows, dbSP500)\n",
    "print(dfRows)"
   ]
  },
  {
   "cell_type": "code",
   "execution_count": 9,
   "metadata": {},
   "outputs": [
    {
     "data": {
      "text/html": [
       "<div>\n",
       "<style scoped>\n",
       "    .dataframe tbody tr th:only-of-type {\n",
       "        vertical-align: middle;\n",
       "    }\n",
       "\n",
       "    .dataframe tbody tr th {\n",
       "        vertical-align: top;\n",
       "    }\n",
       "\n",
       "    .dataframe thead th {\n",
       "        text-align: right;\n",
       "    }\n",
       "</style>\n",
       "<table border=\"1\" class=\"dataframe\">\n",
       "  <thead>\n",
       "    <tr style=\"text-align: right;\">\n",
       "      <th></th>\n",
       "      <th>id</th>\n",
       "      <th>Date</th>\n",
       "      <th>Open</th>\n",
       "      <th>High</th>\n",
       "      <th>Low</th>\n",
       "      <th>Close</th>\n",
       "      <th>Adj Close</th>\n",
       "      <th>Volume</th>\n",
       "    </tr>\n",
       "  </thead>\n",
       "  <tbody>\n",
       "    <tr>\n",
       "      <th>0</th>\n",
       "      <td>1</td>\n",
       "      <td>1950-01-03</td>\n",
       "      <td>16.66</td>\n",
       "      <td>16.66</td>\n",
       "      <td>16.66</td>\n",
       "      <td>16.66</td>\n",
       "      <td>16.66</td>\n",
       "      <td>1260000</td>\n",
       "    </tr>\n",
       "    <tr>\n",
       "      <th>1</th>\n",
       "      <td>2</td>\n",
       "      <td>1950-01-04</td>\n",
       "      <td>16.85</td>\n",
       "      <td>16.85</td>\n",
       "      <td>16.85</td>\n",
       "      <td>16.85</td>\n",
       "      <td>16.85</td>\n",
       "      <td>1890000</td>\n",
       "    </tr>\n",
       "    <tr>\n",
       "      <th>2</th>\n",
       "      <td>3</td>\n",
       "      <td>1950-01-05</td>\n",
       "      <td>16.93</td>\n",
       "      <td>16.93</td>\n",
       "      <td>16.93</td>\n",
       "      <td>16.93</td>\n",
       "      <td>16.93</td>\n",
       "      <td>2550000</td>\n",
       "    </tr>\n",
       "    <tr>\n",
       "      <th>3</th>\n",
       "      <td>4</td>\n",
       "      <td>1950-01-06</td>\n",
       "      <td>16.98</td>\n",
       "      <td>16.98</td>\n",
       "      <td>16.98</td>\n",
       "      <td>16.98</td>\n",
       "      <td>16.98</td>\n",
       "      <td>2010000</td>\n",
       "    </tr>\n",
       "    <tr>\n",
       "      <th>4</th>\n",
       "      <td>5</td>\n",
       "      <td>1950-01-09</td>\n",
       "      <td>17.08</td>\n",
       "      <td>17.08</td>\n",
       "      <td>17.08</td>\n",
       "      <td>17.08</td>\n",
       "      <td>17.08</td>\n",
       "      <td>2520000</td>\n",
       "    </tr>\n",
       "    <tr>\n",
       "      <th>5</th>\n",
       "      <td>6</td>\n",
       "      <td>1950-01-10</td>\n",
       "      <td>17.03</td>\n",
       "      <td>17.03</td>\n",
       "      <td>17.03</td>\n",
       "      <td>17.03</td>\n",
       "      <td>17.03</td>\n",
       "      <td>2160000</td>\n",
       "    </tr>\n",
       "  </tbody>\n",
       "</table>\n",
       "</div>"
      ],
      "text/plain": [
       "  id        Date   Open   High    Low  Close Adj Close   Volume\n",
       "0  1  1950-01-03  16.66  16.66  16.66  16.66     16.66  1260000\n",
       "1  2  1950-01-04  16.85  16.85  16.85  16.85     16.85  1890000\n",
       "2  3  1950-01-05  16.93  16.93  16.93  16.93     16.93  2550000\n",
       "3  4  1950-01-06  16.98  16.98  16.98  16.98     16.98  2010000\n",
       "4  5  1950-01-09  17.08  17.08  17.08  17.08     17.08  2520000\n",
       "5  6  1950-01-10  17.03  17.03  17.03  17.03     17.03  2160000"
      ]
     },
     "execution_count": 9,
     "metadata": {},
     "output_type": "execute_result"
    }
   ],
   "source": [
    "queryData = \"\"\"\n",
    "select * from sp500\n",
    "\"\"\"\n",
    "\n",
    "dfSP500 = pd.read_sql_query(queryData, dbSP500)\n",
    "dfSP500.head(6)"
   ]
  },
  {
   "cell_type": "code",
   "execution_count": 14,
   "metadata": {},
   "outputs": [
    {
     "name": "stdout",
     "output_type": "stream",
     "text": [
      "id\n",
      "Date\n",
      "Open\n",
      "High\n",
      "Low\n",
      "Close\n",
      "Adj Close\n",
      "Volume\n",
      "\n",
      "Found 8 columns\n"
     ]
    }
   ],
   "source": [
    "i = 0\n",
    "\n",
    "for col in dfSP500:\n",
    "    print(col)\n",
    "    i += 1\n",
    "    \n",
    "print(\"\\nFound %s columns\" % i)"
   ]
  },
  {
   "cell_type": "markdown",
   "metadata": {},
   "source": [
    "# What is the highest S&P500 price recorded in the dataset?"
   ]
  },
  {
   "cell_type": "code",
   "execution_count": 15,
   "metadata": {},
   "outputs": [
    {
     "name": "stdout",
     "output_type": "stream",
     "text": [
      "SQL Result: \n",
      "\n",
      "   max(high)\n",
      "0    999.61\n",
      "\n",
      "\n",
      "\n",
      "\n",
      "Pandas result: \n",
      "\n",
      " 999.61\n"
     ]
    }
   ],
   "source": [
    "queryHighPrice = \"\"\"\n",
    "select max(high) from sp500\n",
    "\"\"\"\n",
    "\n",
    "resultHighPriceSQL = pd.read_sql_query(queryHighPrice, dbSP500)\n",
    "print(\"SQL Result: \\n\\n %s\" % resultHighPriceSQL)\n",
    "print(\"\\n\\n\\n\")\n",
    "\n",
    "resultHighPricePandas = dfSP500['High'].max()\n",
    "print(\"Pandas result: \\n\\n %s\" % resultHighPricePandas)"
   ]
  },
  {
   "cell_type": "markdown",
   "metadata": {},
   "source": [
    "# How much was the highest price and when was it?"
   ]
  },
  {
   "cell_type": "code",
   "execution_count": 18,
   "metadata": {},
   "outputs": [
    {
     "name": "stdout",
     "output_type": "stream",
     "text": [
      "SQL Result: \n",
      "\n",
      "       id        Date    Open    High     Low   Close Adj Close      Volume\n",
      "0  15004  2009-08-19  986.88  999.61  980.62  996.46    996.46  4257000000\n",
      "\n",
      "\n",
      "\n",
      "\n",
      "Pandas Result: \n",
      "\n",
      "           id        Date    Open    High     Low   Close Adj Close      Volume\n",
      "15003  15004  2009-08-19  986.88  999.61  980.62  996.46    996.46  4257000000\n"
     ]
    }
   ],
   "source": [
    "queryHighPriceWhen = \"\"\"\n",
    "select * from sp500\n",
    "where high = (select max(high) from sp500)\n",
    "\"\"\"\n",
    "\n",
    "resultHighPriceWhenSQL = pd.read_sql_query(queryHighPriceWhen, dbSP500)\n",
    "print(\"SQL Result: \\n\\n %s\" % resultHighPriceWhenSQL)\n",
    "print(\"\\n\\n\\n\")\n",
    "\n",
    "resultHighPriceWhenPandas = dfSP500[dfSP500['High']==dfSP500['High'].max()]\n",
    "print(\"Pandas Result: \\n\\n %s\" % resultHighPriceWhenPandas)"
   ]
  },
  {
   "cell_type": "markdown",
   "metadata": {},
   "source": [
    "# What's the max, average, and min close price for latest 20 years in the S&P500 dataset?\n"
   ]
  },
  {
   "cell_type": "code",
   "execution_count": 21,
   "metadata": {},
   "outputs": [
    {
     "name": "stdout",
     "output_type": "stream",
     "text": [
      "SQL Result: \n",
      "\n",
      "     year max_close    avg_close min_close\n",
      "0   2019   2670.71  2593.305294   2447.89\n",
      "1   2018   2930.75  2746.214422    2351.1\n",
      "2   2017   2690.16  2449.076375   2257.83\n",
      "3   2016   2271.72  2094.651270   1829.08\n",
      "4   2015   2130.82  2061.067738   1867.61\n",
      "5   2014   2090.57  1931.376111   1741.89\n",
      "6   2013   1848.36  1643.798968   1457.15\n",
      "7   2012   1465.77  1379.354160   1277.06\n",
      "8   2011   1363.61  1267.638810   1099.23\n",
      "9   2010   1259.78  1139.965516   1022.58\n",
      "10  2009    998.04   948.046389   1002.63\n",
      "11  2008    998.01  1220.042055   1003.35\n",
      "12  2007   1565.15  1477.184343   1374.12\n",
      "13  2006   1427.09  1310.461235   1223.69\n",
      "14  2005   1272.74  1207.229444    1137.5\n",
      "15  2004   1213.55  1130.649444   1063.23\n",
      "16  2003    999.74   965.227540    1000.3\n",
      "17  2002    992.72   993.934802   1006.29\n",
      "18  2001    984.54  1194.178992   1003.45\n",
      "19  2000   1527.46  1427.221071   1264.74\n"
     ]
    }
   ],
   "source": [
    "queryYearlySummaryQuery = \"\"\"\n",
    "select\n",
    "    substr(date, 1,4) as year,\n",
    "    max(close) as max_close,\n",
    "    avg(close) as avg_close,\n",
    "    min(close) as min_close\n",
    "from sp500\n",
    "group by substr(date, 1,4)\n",
    "order by substr(date, 1,4) desc\n",
    "limit 20\n",
    "\"\"\"\n",
    "\n",
    "resultYearlySummarySQL = pd.read_sql_query(queryYearlySummaryQuery, dbSP500)\n",
    "print(\"SQL Result: \\n\\n %s\" % resultYearlySummarySQL)"
   ]
  },
  {
   "cell_type": "code",
   "execution_count": 22,
   "metadata": {},
   "outputs": [
    {
     "data": {
      "text/html": [
       "<div>\n",
       "<style scoped>\n",
       "    .dataframe tbody tr th:only-of-type {\n",
       "        vertical-align: middle;\n",
       "    }\n",
       "\n",
       "    .dataframe tbody tr th {\n",
       "        vertical-align: top;\n",
       "    }\n",
       "\n",
       "    .dataframe thead tr th {\n",
       "        text-align: left;\n",
       "    }\n",
       "\n",
       "    .dataframe thead tr:last-of-type th {\n",
       "        text-align: right;\n",
       "    }\n",
       "</style>\n",
       "<table border=\"1\" class=\"dataframe\">\n",
       "  <thead>\n",
       "    <tr>\n",
       "      <th></th>\n",
       "      <th colspan=\"3\" halign=\"left\">Close</th>\n",
       "    </tr>\n",
       "    <tr>\n",
       "      <th></th>\n",
       "      <th>max</th>\n",
       "      <th>mean</th>\n",
       "      <th>min</th>\n",
       "    </tr>\n",
       "    <tr>\n",
       "      <th>Year</th>\n",
       "      <th></th>\n",
       "      <th></th>\n",
       "      <th></th>\n",
       "    </tr>\n",
       "  </thead>\n",
       "  <tbody>\n",
       "    <tr>\n",
       "      <th>2019</th>\n",
       "      <td>2670.71</td>\n",
       "      <td>2593.305294</td>\n",
       "      <td>2447.89</td>\n",
       "    </tr>\n",
       "    <tr>\n",
       "      <th>2018</th>\n",
       "      <td>2930.75</td>\n",
       "      <td>2746.214422</td>\n",
       "      <td>2351.10</td>\n",
       "    </tr>\n",
       "    <tr>\n",
       "      <th>2017</th>\n",
       "      <td>2690.16</td>\n",
       "      <td>2449.076375</td>\n",
       "      <td>2257.83</td>\n",
       "    </tr>\n",
       "    <tr>\n",
       "      <th>2016</th>\n",
       "      <td>2271.72</td>\n",
       "      <td>2094.651270</td>\n",
       "      <td>1829.08</td>\n",
       "    </tr>\n",
       "    <tr>\n",
       "      <th>2015</th>\n",
       "      <td>2130.82</td>\n",
       "      <td>2061.067738</td>\n",
       "      <td>1867.61</td>\n",
       "    </tr>\n",
       "    <tr>\n",
       "      <th>2014</th>\n",
       "      <td>2090.57</td>\n",
       "      <td>1931.376111</td>\n",
       "      <td>1741.89</td>\n",
       "    </tr>\n",
       "    <tr>\n",
       "      <th>2013</th>\n",
       "      <td>1848.36</td>\n",
       "      <td>1643.798968</td>\n",
       "      <td>1457.15</td>\n",
       "    </tr>\n",
       "    <tr>\n",
       "      <th>2012</th>\n",
       "      <td>1465.77</td>\n",
       "      <td>1379.354160</td>\n",
       "      <td>1277.06</td>\n",
       "    </tr>\n",
       "    <tr>\n",
       "      <th>2011</th>\n",
       "      <td>1363.61</td>\n",
       "      <td>1267.638810</td>\n",
       "      <td>1099.23</td>\n",
       "    </tr>\n",
       "    <tr>\n",
       "      <th>2010</th>\n",
       "      <td>1259.78</td>\n",
       "      <td>1139.965516</td>\n",
       "      <td>1022.58</td>\n",
       "    </tr>\n",
       "    <tr>\n",
       "      <th>2009</th>\n",
       "      <td>1127.78</td>\n",
       "      <td>948.046389</td>\n",
       "      <td>676.53</td>\n",
       "    </tr>\n",
       "    <tr>\n",
       "      <th>2008</th>\n",
       "      <td>1447.16</td>\n",
       "      <td>1220.042055</td>\n",
       "      <td>752.44</td>\n",
       "    </tr>\n",
       "    <tr>\n",
       "      <th>2007</th>\n",
       "      <td>1565.15</td>\n",
       "      <td>1477.184343</td>\n",
       "      <td>1374.12</td>\n",
       "    </tr>\n",
       "    <tr>\n",
       "      <th>2006</th>\n",
       "      <td>1427.09</td>\n",
       "      <td>1310.461235</td>\n",
       "      <td>1223.69</td>\n",
       "    </tr>\n",
       "    <tr>\n",
       "      <th>2005</th>\n",
       "      <td>1272.74</td>\n",
       "      <td>1207.229444</td>\n",
       "      <td>1137.50</td>\n",
       "    </tr>\n",
       "    <tr>\n",
       "      <th>2004</th>\n",
       "      <td>1213.55</td>\n",
       "      <td>1130.649444</td>\n",
       "      <td>1063.23</td>\n",
       "    </tr>\n",
       "    <tr>\n",
       "      <th>2003</th>\n",
       "      <td>1111.92</td>\n",
       "      <td>965.227540</td>\n",
       "      <td>800.73</td>\n",
       "    </tr>\n",
       "    <tr>\n",
       "      <th>2002</th>\n",
       "      <td>1172.51</td>\n",
       "      <td>993.934802</td>\n",
       "      <td>776.76</td>\n",
       "    </tr>\n",
       "    <tr>\n",
       "      <th>2001</th>\n",
       "      <td>1373.73</td>\n",
       "      <td>1194.178992</td>\n",
       "      <td>965.80</td>\n",
       "    </tr>\n",
       "    <tr>\n",
       "      <th>2000</th>\n",
       "      <td>1527.46</td>\n",
       "      <td>1427.221071</td>\n",
       "      <td>1264.74</td>\n",
       "    </tr>\n",
       "  </tbody>\n",
       "</table>\n",
       "</div>"
      ],
      "text/plain": [
       "        Close                      \n",
       "          max         mean      min\n",
       "Year                               \n",
       "2019  2670.71  2593.305294  2447.89\n",
       "2018  2930.75  2746.214422  2351.10\n",
       "2017  2690.16  2449.076375  2257.83\n",
       "2016  2271.72  2094.651270  1829.08\n",
       "2015  2130.82  2061.067738  1867.61\n",
       "2014  2090.57  1931.376111  1741.89\n",
       "2013  1848.36  1643.798968  1457.15\n",
       "2012  1465.77  1379.354160  1277.06\n",
       "2011  1363.61  1267.638810  1099.23\n",
       "2010  1259.78  1139.965516  1022.58\n",
       "2009  1127.78   948.046389   676.53\n",
       "2008  1447.16  1220.042055   752.44\n",
       "2007  1565.15  1477.184343  1374.12\n",
       "2006  1427.09  1310.461235  1223.69\n",
       "2005  1272.74  1207.229444  1137.50\n",
       "2004  1213.55  1130.649444  1063.23\n",
       "2003  1111.92   965.227540   800.73\n",
       "2002  1172.51   993.934802   776.76\n",
       "2001  1373.73  1194.178992   965.80\n",
       "2000  1527.46  1427.221071  1264.74"
      ]
     },
     "execution_count": 22,
     "metadata": {},
     "output_type": "execute_result"
    }
   ],
   "source": [
    "dfSP500Work = dfSP500\n",
    "\n",
    "dfSP500Work['Year'] = dfSP500Work['Date'].str.slice(stop=4)\n",
    "dfSP500Work['Close'] = pd.to_numeric(dfSP500Work['Close'])\n",
    "\n",
    "dfSP500Work.groupby(['Year']).agg({'Close': ['max', 'mean', 'min']}).sort_values(by = 'Year', ascending = False).head(20)"
   ]
  },
  {
   "cell_type": "markdown",
   "metadata": {},
   "source": [
    "# My Question Examples:"
   ]
  },
  {
   "cell_type": "markdown",
   "metadata": {},
   "source": [
    "# What was the lowest price and when did it occur most recently?"
   ]
  },
  {
   "cell_type": "code",
   "execution_count": 68,
   "metadata": {},
   "outputs": [
    {
     "name": "stdout",
     "output_type": "stream",
     "text": [
      "Low Price: \n",
      "\n",
      "      id        Date    Open    High     Low  Close Adj Close    Volume\n",
      "0  7328  1979-03-20  101.06  101.34  100.01  100.5     100.5  27180000\n"
     ]
    }
   ],
   "source": [
    "queryLowPriceWhen = \"\"\"\n",
    "select * from sp500\n",
    "where low = (select min(low) from sp500)\n",
    "order by date desc\n",
    "limit 1\n",
    "\"\"\"\n",
    "\n",
    "resultLowPriceWhenSQL = pd.read_sql_query(queryLowPriceWhen, dbSP500)\n",
    "print(\"Low Price: \\n\\n %s\" % resultLowPriceWhenSQL)"
   ]
  },
  {
   "cell_type": "markdown",
   "metadata": {},
   "source": [
    "# When did the opening price equal the closing price in the 5 most recent circumstances?"
   ]
  },
  {
   "cell_type": "code",
   "execution_count": 64,
   "metadata": {},
   "outputs": [
    {
     "name": "stdout",
     "output_type": "stream",
     "text": [
      "Opening and Closing Prices Equalled: \n",
      "\n",
      "       id        Date     Open     High      Low    Close Adj Close      Volume\n",
      "0  16927  2017-04-10  2357.16  2366.37   2351.5  2357.16   2357.16  2785410000\n",
      "1  15292  2010-10-11  1165.32  1168.68  1162.02  1165.32   1165.32  2505900000\n",
      "2  14207  2006-06-20  1240.12  1249.01  1238.87  1240.12   1240.12  2232950000\n",
      "3  11844  1997-01-28   765.02   776.32   761.75   765.02    765.02   541580000\n",
      "4  11327  1995-01-12   461.64   461.93   460.63   461.64    461.64   313040000\n"
     ]
    }
   ],
   "source": [
    "queryEqualOpenAndClose = \"\"\"\n",
    "select * from sp500\n",
    "where open = close\n",
    "Order by date desc\n",
    "limit 5\n",
    "\"\"\"\n",
    "\n",
    "resultEqualOpenAndCloseSQL = pd.read_sql_query(queryEqualOpenAndClose, dbSP500)\n",
    "print(\"Opening and Closing Prices Equalled: \\n\\n %s\" % resultEqualOpenAndCloseSQL)"
   ]
  },
  {
   "cell_type": "markdown",
   "metadata": {},
   "source": [
    "# How many days did the open price exceed the closing price ?"
   ]
  },
  {
   "cell_type": "code",
   "execution_count": 152,
   "metadata": {},
   "outputs": [
    {
     "name": "stdout",
     "output_type": "stream",
     "text": [
      "Open Price exceeded Closing Price: \n",
      "\n",
      "    count(*)\n",
      "0      6729\n"
     ]
    }
   ],
   "source": [
    "queryOpenPriceOverClosing = \"\"\"\n",
    "select count(*) from sp500\n",
    "where open > close \n",
    "\"\"\"\n",
    "\n",
    "resultOpenPriceOverClosingSQL = pd.read_sql_query(queryOpenPriceOverClosing, dbSP500)\n",
    "print(\"Open Price exceeded Closing Price: \\n\\n %s\" % resultOpenPriceOverClosingSQL)"
   ]
  },
  {
   "cell_type": "markdown",
   "metadata": {},
   "source": [
    "# What days were the closing price between 100 and 500?"
   ]
  },
  {
   "cell_type": "code",
   "execution_count": 198,
   "metadata": {},
   "outputs": [
    {
     "name": "stdout",
     "output_type": "stream",
     "text": [
      "Closing price between 100 and 500: \n",
      "\n",
      "             Date  closing_limit\n",
      "0     1968-06-04         100.38\n",
      "1     1968-06-06         100.65\n",
      "2     1968-06-07         101.27\n",
      "3     1968-06-10         101.41\n",
      "4     1968-06-11         101.66\n",
      "5     1968-06-13         101.25\n",
      "6     1968-06-14         101.13\n",
      "7     1968-06-17         100.13\n",
      "8     1968-06-20         101.51\n",
      "9     1968-06-21         100.66\n",
      "10    1968-06-24         100.39\n",
      "11    1968-06-25         100.08\n",
      "12    1968-07-03         100.91\n",
      "13    1968-07-08         101.94\n",
      "14    1968-07-09         102.23\n",
      "15    1968-07-11         102.39\n",
      "16    1968-07-12         102.34\n",
      "17    1968-07-15         102.26\n",
      "18    1968-07-16         101.70\n",
      "19    1968-07-18         101.44\n",
      "20    1968-07-19         100.46\n",
      "21    1968-09-04         100.02\n",
      "22    1968-09-05         100.74\n",
      "23    1968-09-06         101.20\n",
      "24    1968-09-09         101.23\n",
      "25    1968-09-10         100.73\n",
      "26    1968-09-12         100.52\n",
      "27    1968-09-13         100.86\n",
      "28    1968-09-16         101.24\n",
      "29    1968-09-17         101.50\n",
      "...          ...            ...\n",
      "5091  1995-02-09         480.19\n",
      "5092  1995-02-10         481.46\n",
      "5093  1995-02-13         481.65\n",
      "5094  1995-02-14         482.55\n",
      "5095  1995-02-15         484.54\n",
      "5096  1995-02-16         485.22\n",
      "5097  1995-02-17         481.97\n",
      "5098  1995-02-21         482.72\n",
      "5099  1995-02-22         485.07\n",
      "5100  1995-02-23         486.91\n",
      "5101  1995-02-24         488.11\n",
      "5102  1995-02-27         483.81\n",
      "5103  1995-02-28         487.39\n",
      "5104  1995-03-01         485.65\n",
      "5105  1995-03-02         485.13\n",
      "5106  1995-03-03         485.42\n",
      "5107  1995-03-06         485.63\n",
      "5108  1995-03-07         482.12\n",
      "5109  1995-03-08         483.14\n",
      "5110  1995-03-09         483.16\n",
      "5111  1995-03-10         489.57\n",
      "5112  1995-03-13         490.05\n",
      "5113  1995-03-14         492.89\n",
      "5114  1995-03-15         491.88\n",
      "5115  1995-03-16         495.41\n",
      "5116  1995-03-17         495.52\n",
      "5117  1995-03-20         496.14\n",
      "5118  1995-03-21         495.07\n",
      "5119  1995-03-22         495.67\n",
      "5120  1995-03-23         495.95\n",
      "\n",
      "[5121 rows x 2 columns]\n"
     ]
    }
   ],
   "source": [
    "queryClosingPriceLimit = \"\"\"\n",
    "select date, sum([close]) as closing_limit from sp500\n",
    "group by date\n",
    "having sum([close]) >= 100 and sum([close]) <= 500\n",
    "order by date\n",
    "\n",
    "\"\"\"\n",
    "\n",
    "resultClosingPriceLimitSQL = pd.read_sql_query(queryClosingPriceLimit, dbSP500)\n",
    "print(\"Closing price between 100 and 500: \\n\\n %s\" % resultClosingPriceLimitSQL)"
   ]
  },
  {
   "cell_type": "markdown",
   "metadata": {},
   "source": [
    "# How many times does the open price exceed 1,000?"
   ]
  },
  {
   "cell_type": "code",
   "execution_count": 44,
   "metadata": {},
   "outputs": [
    {
     "name": "stdout",
     "output_type": "stream",
     "text": [
      "Closing price over 1000: \n",
      "\n",
      "             Date  open_exceeding_one_thousand\n",
      "0     1998-02-03                      1001.27\n",
      "1     1998-02-04                      1006.00\n",
      "2     1998-02-05                      1006.90\n",
      "3     1998-02-06                      1003.54\n",
      "4     1998-02-09                      1012.46\n",
      "5     1998-02-10                      1010.74\n",
      "6     1998-02-11                      1019.01\n",
      "7     1998-02-12                      1020.01\n",
      "8     1998-02-13                      1024.14\n",
      "9     1998-02-17                      1020.09\n",
      "10    1998-02-18                      1022.76\n",
      "11    1998-02-19                      1032.08\n",
      "12    1998-02-20                      1028.28\n",
      "13    1998-02-23                      1034.21\n",
      "14    1998-02-24                      1038.14\n",
      "15    1998-02-25                      1030.56\n",
      "16    1998-02-26                      1042.90\n",
      "17    1998-02-27                      1048.67\n",
      "18    1998-03-02                      1049.34\n",
      "19    1998-03-03                      1047.70\n",
      "20    1998-03-04                      1052.02\n",
      "21    1998-03-05                      1047.33\n",
      "22    1998-03-06                      1035.05\n",
      "23    1998-03-09                      1055.69\n",
      "24    1998-03-10                      1052.31\n",
      "25    1998-03-11                      1064.25\n",
      "26    1998-03-12                      1068.47\n",
      "27    1998-03-13                      1069.92\n",
      "28    1998-03-16                      1068.61\n",
      "29    1998-03-17                      1079.27\n",
      "...          ...                          ...\n",
      "4731  2018-12-12                      2658.23\n",
      "4732  2018-12-13                      2658.70\n",
      "4733  2018-12-14                      2629.68\n",
      "4734  2018-12-17                      2590.75\n",
      "4735  2018-12-18                      2559.90\n",
      "4736  2018-12-19                      2547.05\n",
      "4737  2018-12-20                      2496.77\n",
      "4738  2018-12-21                      2465.38\n",
      "4739  2018-12-24                      2400.56\n",
      "4740  2018-12-26                      2363.12\n",
      "4741  2018-12-27                      2442.50\n",
      "4742  2018-12-28                      2498.77\n",
      "4743  2018-12-31                      2498.94\n",
      "4744  2019-01-02                      2476.96\n",
      "4745  2019-01-03                      2491.92\n",
      "4746  2019-01-04                      2474.33\n",
      "4747  2019-01-07                      2535.61\n",
      "4748  2019-01-08                      2568.11\n",
      "4749  2019-01-09                      2580.00\n",
      "4750  2019-01-10                      2573.51\n",
      "4751  2019-01-11                      2588.11\n",
      "4752  2019-01-14                      2580.31\n",
      "4753  2019-01-15                      2585.10\n",
      "4754  2019-01-16                      2614.75\n",
      "4755  2019-01-17                      2609.28\n",
      "4756  2019-01-18                      2651.27\n",
      "4757  2019-01-22                      2657.88\n",
      "4758  2019-01-23                      2643.48\n",
      "4759  2019-01-24                      2638.84\n",
      "4760  2019-01-25                      2657.44\n",
      "\n",
      "[4761 rows x 2 columns]\n"
     ]
    }
   ],
   "source": [
    "queryOPE = \"\"\"\n",
    "select date, sum([open]) as open_exceeding_one_thousand from sp500\n",
    "group by date\n",
    "having sum([open]) >= 1000\n",
    "order by date\n",
    "\n",
    "\"\"\"\n",
    "\n",
    "resultOPESQL = pd.read_sql_query(queryOPE, dbSP500)\n",
    "print(\"Closing price over 1000: \\n\\n %s\" % resultOPESQL)"
   ]
  },
  {
   "cell_type": "markdown",
   "metadata": {},
   "source": [
    "# Which day had the highest increase from open to close?"
   ]
  },
  {
   "cell_type": "code",
   "execution_count": 43,
   "metadata": {},
   "outputs": [
    {
     "name": "stdout",
     "output_type": "stream",
     "text": [
      "Date of highest increase from open to close: \n",
      "\n",
      "          Date  highest_increase\n",
      "0  2018-02-08            104.01\n"
     ]
    }
   ],
   "source": [
    "queryIncrease = \"\"\"\n",
    "select date, max(open-close) as highest_increase from sp500\n",
    "order by highest_increase \n",
    "limit 1\n",
    "\"\"\"\n",
    "\n",
    "resultIncreaseSQL = pd.read_sql_query(queryIncrease, dbSP500)\n",
    "print(\"Date of highest increase from open to close: \\n\\n %s\" % resultIncreaseSQL)"
   ]
  }
 ],
 "metadata": {
  "kernelspec": {
   "display_name": "conda_python3",
   "language": "python",
   "name": "conda_python3"
  },
  "language_info": {
   "codemirror_mode": {
    "name": "ipython",
    "version": 3
   },
   "file_extension": ".py",
   "mimetype": "text/x-python",
   "name": "python",
   "nbconvert_exporter": "python",
   "pygments_lexer": "ipython3",
   "version": "3.6.5"
  }
 },
 "nbformat": 4,
 "nbformat_minor": 4
}
